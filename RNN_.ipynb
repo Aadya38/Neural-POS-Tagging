{
  "nbformat": 4,
  "nbformat_minor": 0,
  "metadata": {
    "colab": {
      "provenance": []
    },
    "kernelspec": {
      "name": "python3",
      "display_name": "Python 3"
    },
    "language_info": {
      "name": "python"
    }
  },
  "cells": [
    {
      "cell_type": "code",
      "source": [
        "!pip install conllu"
      ],
      "metadata": {
        "colab": {
          "base_uri": "https://localhost:8080/"
        },
        "id": "-e8zmmyt_BAx",
        "outputId": "be8d7c06-e5e1-4ebd-b94c-b952bbeeb769"
      },
      "execution_count": 15,
      "outputs": [
        {
          "output_type": "stream",
          "name": "stdout",
          "text": [
            "Requirement already satisfied: conllu in /usr/local/lib/python3.10/dist-packages (4.5.3)\n"
          ]
        }
      ]
    },
    {
      "cell_type": "code",
      "execution_count": 16,
      "metadata": {
        "id": "4aS-75XD-50P"
      },
      "outputs": [],
      "source": [
        "import conllu\n",
        "import torch\n",
        "import torch.nn as nn\n",
        "import torch.optim as optim\n",
        "import torch.nn.functional as F\n",
        "from torch.utils.data import DataLoader\n",
        "from torch.utils.data import Dataset\n",
        "import matplotlib.pyplot as plt\n",
        "from tqdm import tqdm\n",
        "import numpy as np\n",
        "from sklearn.metrics import accuracy_score, recall_score, precision_score, f1_score, confusion_matrix\n",
        "import warnings\n",
        "\n",
        "\n",
        "# Read the data and parse it\n",
        "with open('en_atis-ud-train.conllu', 'r', encoding=\"utf-8\") as file:\n",
        "    sentences = conllu.parse(file.read())\n",
        "\n",
        "    train_data = []\n",
        "    word_to_idx = {}\n",
        "    tag_to_idx = {}\n",
        "\n",
        "    for sentence in sentences:\n",
        "        words = []\n",
        "        pos = []\n",
        "        for i in range(len(sentence)):\n",
        "\n",
        "            # Extracting word, POS tags, and creating mappings\n",
        "            word = sentence[i]['form']\n",
        "            tag = sentence[i]['upos']\n",
        "            if word not in word_to_idx:\n",
        "                word_to_idx[word] = len(word_to_idx)\n",
        "            if tag not in tag_to_idx:\n",
        "                tag_to_idx[tag] = len(tag_to_idx)\n",
        "\n",
        "            # Appending word index and POS tag index to lists\n",
        "            words.append(word)\n",
        "            pos.append(tag)\n",
        "\n",
        "        # Appending the tagged sentence to the training data\n",
        "        tagged_sentence = (words, pos)\n",
        "        train_data.append(tagged_sentence)\n",
        "\n",
        "\n",
        "\n",
        "# Define the LSTMTagger class\n",
        "class LSTMTagger(nn.Module):\n",
        "    def __init__(self, embedding_dim, hidden_dim, vocab_size, tagset_size, num_layers=1, bidirectional=False, activation=None):\n",
        "        super(LSTMTagger, self).__init__()\n",
        "        self.hidden_dim = hidden_dim\n",
        "        self.word_embeddings = nn.Embedding(vocab_size, embedding_dim)\n",
        "        self.lstm = nn.LSTM(embedding_dim, hidden_dim, num_layers=num_layers, bidirectional=bidirectional)\n",
        "        self.hidden2tag = nn.Linear(hidden_dim * 2 if bidirectional else hidden_dim, tagset_size)\n",
        "        self.activation = activation\n",
        "\n",
        "    def forward(self, sentence):\n",
        "        embeds = self.word_embeddings(sentence)\n",
        "        lstm_out, _ = self.lstm(embeds.view(len(sentence), 1, -1))\n",
        "        if self.activation:\n",
        "            lstm_out = self.activation(lstm_out)  # Apply activation function\n",
        "        tag_space = self.hidden2tag(lstm_out.view(len(sentence), -1))\n",
        "        tag_scores = F.log_softmax(tag_space, dim=1)\n",
        "        return tag_scores"
      ]
    },
    {
      "cell_type": "code",
      "source": [
        "# Function to convert sentence to input sequence\n",
        "def input_seq(sentence, word_to_idx):\n",
        "    idxs = [word_to_idx.get(w, 0) for w in sentence]\n",
        "    return torch.tensor(idxs, dtype=torch.long)\n",
        "\n",
        "# Function to calculate accuracy\n",
        "def calculate_accuracy(model, data, word_to_idx, tag_to_idx):\n",
        "    correct_counts = 0\n",
        "    total_counts = 0\n",
        "    for sentence, tags in data:\n",
        "        input_sentence = input_seq(sentence, word_to_idx)\n",
        "        targets = input_seq(tags, tag_to_idx)\n",
        "        tag_scores = model(input_sentence)\n",
        "        predicted_indices = torch.argmax(tag_scores, dim=1)\n",
        "        correct_counts += torch.sum(predicted_indices == targets).item()\n",
        "        total_counts += len(targets)\n",
        "    return correct_counts / total_counts\n",
        "\n",
        "# Define model parameters and initialize the model\n",
        "embedding_dim = 128\n",
        "hidden_dim = 128\n",
        "vocab_size = len(word_to_idx)\n",
        "tagset_size = len(tag_to_idx)\n",
        "# print(vocab_size)\n",
        "# print(tagset_size)\n",
        "model = LSTMTagger(embedding_dim, hidden_dim, vocab_size, tagset_size)\n",
        "\n",
        "# Defining the loss function and optimizer\n",
        "loss_function = nn.NLLLoss()\n",
        "optimizer = optim.SGD(model.parameters(), lr=0.01)\n",
        "\n",
        "# Training using number of epochs\n",
        "num_epochs = 50\n",
        "for epoch in range(num_epochs):\n",
        "    model.train()\n",
        "    for sentence, tags in train_data:\n",
        "        model.zero_grad()\n",
        "        input_sentence = input_seq(sentence, word_to_idx)\n",
        "        targets = input_seq(tags, tag_to_idx)\n",
        "        tag_scores = model(input_sentence)\n",
        "        loss = loss_function(tag_scores, targets)\n",
        "        loss.backward()\n",
        "        optimizer.step()\n",
        "\n",
        "    model.eval()\n",
        "    train_accuracy = calculate_accuracy(model, train_data, word_to_idx, tag_to_idx)\n",
        "    print(f\"Epoch: {epoch+1}, Loss: {loss.item()}, Accuracy: {train_accuracy}\")\n",
        "\n",
        "\n",
        "#Saving the model\n",
        "torch.save(model.state_dict(), \"model.pt\")"
      ],
      "metadata": {
        "colab": {
          "base_uri": "https://localhost:8080/"
        },
        "id": "VqlYiZwFDgjk",
        "outputId": "a2ad356c-a182-4e93-f07d-bf9ebcc1fb2f"
      },
      "execution_count": 19,
      "outputs": [
        {
          "output_type": "stream",
          "name": "stdout",
          "text": [
            "Epoch: 1, Loss: 0.04607856273651123, Accuracy: 0.8198129688623985\n",
            "Epoch: 2, Loss: 0.011095333844423294, Accuracy: 0.8883773507347652\n",
            "Epoch: 3, Loss: 0.005214477889239788, Accuracy: 0.9183434384955298\n",
            "Epoch: 4, Loss: 0.0031894270796328783, Accuracy: 0.9329770835474257\n",
            "Epoch: 5, Loss: 0.0022505230735987425, Accuracy: 0.9416298427705272\n",
            "Epoch: 6, Loss: 0.0017266999930143356, Accuracy: 0.9460487103072655\n",
            "Epoch: 7, Loss: 0.001393606187775731, Accuracy: 0.9499743089096702\n",
            "Epoch: 8, Loss: 0.0011627115309238434, Accuracy: 0.9524201007090741\n",
            "Epoch: 9, Loss: 0.0009932059329003096, Accuracy: 0.9544959408077279\n",
            "Epoch: 10, Loss: 0.0008636516286060214, Accuracy: 0.9563868050560066\n",
            "Epoch: 11, Loss: 0.0007616828661412001, Accuracy: 0.9579899290925907\n",
            "Epoch: 12, Loss: 0.0006798893446102738, Accuracy: 0.9595313945123831\n",
            "Epoch: 13, Loss: 0.0006129812682047486, Accuracy: 0.9610728599321755\n",
            "Epoch: 14, Loss: 0.0005572876543737948, Accuracy: 0.9621621621621622\n",
            "Epoch: 15, Loss: 0.0005101175047457218, Accuracy: 0.9630870414140376\n",
            "Epoch: 16, Loss: 0.00046971652773208916, Accuracy: 0.9637036275819546\n",
            "Epoch: 17, Loss: 0.00043461218592710793, Accuracy: 0.9641763436440243\n",
            "Epoch: 18, Loss: 0.0004039422783534974, Accuracy: 0.9645462953447744\n",
            "Epoch: 19, Loss: 0.00037690342287532985, Accuracy: 0.9661083136368307\n",
            "Epoch: 20, Loss: 0.000352930452208966, Accuracy: 0.966457712465317\n",
            "Epoch: 21, Loss: 0.00033156221616081893, Accuracy: 0.9669509813996506\n",
            "Epoch: 22, Loss: 0.0003124118666164577, Accuracy: 0.967279827355873\n",
            "Epoch: 23, Loss: 0.000295256293611601, Accuracy: 0.967690884801151\n",
            "Epoch: 24, Loss: 0.0002796787302941084, Accuracy: 0.9680197307573734\n",
            "Epoch: 25, Loss: 0.00026558997342363, Accuracy: 0.9683896824581235\n",
            "Epoch: 26, Loss: 0.0002527369651943445, Accuracy: 0.9687801870311376\n",
            "Epoch: 27, Loss: 0.00024091127852443606, Accuracy: 0.9690062686260404\n",
            "Epoch: 28, Loss: 0.0002300683263456449, Accuracy: 0.9692734559654712\n",
            "Epoch: 29, Loss: 0.00022001450997777283, Accuracy: 0.9695611961771657\n",
            "Epoch: 30, Loss: 0.00021072012896183878, Accuracy: 0.9697461720275409\n",
            "Epoch: 31, Loss: 0.00020214059622958302, Accuracy: 0.9699722536224438\n",
            "Epoch: 32, Loss: 0.00019396297284401953, Accuracy: 0.9700955708560272\n",
            "Epoch: 33, Loss: 0.0001864555524662137, Accuracy: 0.9702188880896105\n",
            "Epoch: 34, Loss: 0.00017936511721927673, Accuracy: 0.9704449696845134\n",
            "Epoch: 35, Loss: 0.00017273635603487492, Accuracy: 0.9706093926626246\n",
            "Epoch: 36, Loss: 0.00016642030095681548, Accuracy: 0.9708149213852636\n",
            "Epoch: 37, Loss: 0.00016044678341131657, Accuracy: 0.9710204501079026\n",
            "Epoch: 38, Loss: 0.00015481581795029342, Accuracy: 0.971143767341486\n",
            "Epoch: 39, Loss: 0.0001495125179644674, Accuracy: 0.971143767341486\n",
            "Epoch: 40, Loss: 0.00014447729336097836, Accuracy: 0.9712876374473333\n",
            "Epoch: 41, Loss: 0.00013962082448415458, Accuracy: 0.9714726132977084\n",
            "Epoch: 42, Loss: 0.00013506221876014024, Accuracy: 0.9715342719145\n",
            "Epoch: 43, Loss: 0.00013068235421087593, Accuracy: 0.9716781420203473\n",
            "Epoch: 44, Loss: 0.00012651103315874934, Accuracy: 0.9718836707429863\n",
            "Epoch: 45, Loss: 0.00012254822649993002, Accuracy: 0.9719864351043058\n",
            "Epoch: 46, Loss: 0.00011873437324538827, Accuracy: 0.9720686465933615\n",
            "Epoch: 47, Loss: 0.00011508438183227554, Accuracy: 0.972171410954681\n",
            "Epoch: 48, Loss: 0.00011153864033985883, Accuracy: 0.9722947281882643\n",
            "Epoch: 49, Loss: 0.00010818656301125884, Accuracy: 0.9723769396773199\n",
            "Epoch: 50, Loss: 0.0001049834318109788, Accuracy: 0.9725824683999589\n"
          ]
        }
      ]
    },
    {
      "cell_type": "code",
      "source": [
        "# Loading the model\n",
        "# torch.load(\"model.pt\")\n",
        "# model.eval()\n",
        "\n",
        "# Read the dev data and parse it\n",
        "with open('en_atis-ud-dev.conllu', 'r', encoding=\"utf-8\") as file:\n",
        "    dev_sentences = conllu.parse(file.read())\n",
        "\n",
        "    dev_data = []\n",
        "    for sentence in dev_sentences:\n",
        "        words = []\n",
        "        pos = []\n",
        "        for i in range(len(sentence)):\n",
        "            word = sentence[i]['form']\n",
        "            tag = sentence[i]['upos']\n",
        "            words.append(word)\n",
        "            pos.append(tag)\n",
        "        dev_data.append((words, pos))\n",
        "\n",
        "# Testing the accuracy on the dev set\n",
        "dev_accuracy = calculate_accuracy(model, dev_data, word_to_idx, tag_to_idx)\n",
        "print(f\"Dev Accuracy: {dev_accuracy}\")\n",
        "\n",
        "\n",
        "\n",
        "# Test dataset reading and parsing it\n",
        "with open('en_atis-ud-test.conllu', 'r', encoding=\"utf-8\") as file:\n",
        "    test_sentences = conllu.parse(file.read())\n",
        "\n",
        "    test_data = []\n",
        "    for sentence in test_sentences:\n",
        "        words = []\n",
        "        pos = []\n",
        "        for i in range(len(sentence)):\n",
        "            word = sentence[i]['form']\n",
        "            tag = sentence[i]['upos']\n",
        "            words.append(word)\n",
        "            pos.append(tag)\n",
        "        test_data.append((words, pos))\n",
        "\n",
        "# Testing the accuracy on the test set\n",
        "test_accuracy = calculate_accuracy(model, test_data, word_to_idx, tag_to_idx)\n",
        "print(f\"Test Accuracy: {test_accuracy}\")"
      ],
      "metadata": {
        "colab": {
          "base_uri": "https://localhost:8080/"
        },
        "id": "V0S252dUF7M2",
        "outputId": "fb29768e-8108-4540-d534-d3ce30055c74"
      },
      "execution_count": 20,
      "outputs": [
        {
          "output_type": "stream",
          "name": "stdout",
          "text": [
            "Dev Accuracy: 0.9525888019265503\n",
            "Test Accuracy: 0.955775075987842\n"
          ]
        }
      ]
    },
    {
      "cell_type": "code",
      "source": [
        "num_epochs = 5\n",
        "# Define hyperparameter configurations to experiment with\n",
        "configurations = [\n",
        "    {\"num_layers\": 1, \"bidirectional\": False, \"hidden_size\": 256, \"embedding_size\": 128, \"activation\": F.relu},\n",
        "    {\"num_layers\": 2, \"bidirectional\": True, \"hidden_size\": 128, \"embedding_size\": 256, \"activation\": F.relu},\n",
        "    {\"num_layers\": 1, \"bidirectional\": False, \"hidden_size\": 64, \"embedding_size\": 64, \"activation\": F.tanh},\n",
        "]\n",
        "\n",
        "# Training and evaluating each configuration\n",
        "#dev_accuracies = []\n",
        "dev_accuracies = []\n",
        "test_accuracies = []\n",
        "\n",
        "for config in configurations:\n",
        "    print(\"Training with configuration:\")\n",
        "    print(f\"Number of Layers: {config['num_layers']}, Bidirectional: {config['bidirectional']}, Hidden Layer Size: {config['hidden_size']}, Embedding Size: {config['embedding_size']}, Activation Function: {config['activation'].__name__}\")\n",
        "    model = LSTMTagger(embedding_dim=config['embedding_size'], hidden_dim=config['hidden_size'],\n",
        "                       vocab_size=vocab_size, tagset_size=tagset_size,\n",
        "                       num_layers=config['num_layers'], bidirectional=config['bidirectional'],\n",
        "                       activation=config['activation'])\n",
        "\n",
        "    loss_function = nn.NLLLoss()\n",
        "    optimizer = optim.SGD(model.parameters(), lr=0.01)\n",
        "\n",
        "    # Training loop\n",
        "    for epoch in tqdm(range(num_epochs)):\n",
        "        model.train()\n",
        "        for sentence, tags in train_data:\n",
        "            model.zero_grad()\n",
        "            input_sentence = input_seq(sentence, word_to_idx)\n",
        "            targets = input_seq(tags, tag_to_idx)\n",
        "            tag_scores = model(input_sentence)\n",
        "            loss = loss_function(tag_scores, targets)\n",
        "            loss.backward()\n",
        "            optimizer.step()\n",
        "\n",
        "    # Evaluation done on dev set\n",
        "    dev_accuracy = calculate_accuracy(model, dev_data, word_to_idx, tag_to_idx)\n",
        "    print(f\"Dev Accuracy: {dev_accuracy}\\n\")\n",
        "    dev_accuracies.append(dev_accuracy)\n",
        "\n",
        "# Selecting the best performing configuration on the development set\n",
        "best_config_index = dev_accuracies.index(max(dev_accuracies))\n",
        "best_config = configurations[best_config_index]\n",
        "print(f\"Best performing configuration on dev set:\")\n",
        "print(f\"Number of Layers: {best_config['num_layers']}, Bidirectional: {best_config['bidirectional']}, Hidden Layer Size: {best_config['hidden_size']}, Embedding Size: {best_config['embedding_size']}, Activation Function: {best_config['activation'].__name__}\")\n",
        "\n",
        "\n",
        "\n",
        "# Evaluating the best configuration on the test set\n",
        "best_model = LSTMTagger(embedding_dim=best_config['embedding_size'], hidden_dim=best_config['hidden_size'],\n",
        "                        vocab_size=vocab_size, tagset_size=tagset_size,\n",
        "                        num_layers=best_config['num_layers'], bidirectional=best_config['bidirectional'],\n",
        "                        activation=best_config['activation'])\n",
        "\n",
        "loss_function = nn.NLLLoss()\n",
        "optimizer = optim.SGD(model.parameters(), lr=0.01)\n",
        "\n",
        "# Training the best model on the entire training set before testing\n",
        "for epoch in tqdm(range(num_epochs)):\n",
        "    best_model.train()\n",
        "    for sentence, tags in train_data:\n",
        "        best_model.zero_grad()\n",
        "        input_sentence = input_seq(sentence, word_to_idx)\n",
        "        targets = input_seq(tags, tag_to_idx)\n",
        "        tag_scores = best_model(input_sentence)\n",
        "        loss = loss_function(tag_scores, targets)\n",
        "        loss.backward()\n",
        "        optimizer.step()\n",
        "\n",
        "# Testing the best model on the test set\n",
        "test_accuracy = calculate_accuracy(best_model, test_data, word_to_idx, tag_to_idx)\n",
        "print(f\"Test Accuracy for the best configuration: {test_accuracy}\")\n"
      ],
      "metadata": {
        "colab": {
          "base_uri": "https://localhost:8080/"
        },
        "id": "bXfFuhUsSg2k",
        "outputId": "c6b903a7-de49-4da2-e9fa-c5030a960685"
      },
      "execution_count": 22,
      "outputs": [
        {
          "output_type": "stream",
          "name": "stdout",
          "text": [
            "Training with configuration:\n",
            "Number of Layers: 1, Bidirectional: False, Hidden Layer Size: 256, Embedding Size: 128, Activation Function: relu\n"
          ]
        },
        {
          "output_type": "stream",
          "name": "stderr",
          "text": [
            "100%|██████████| 5/5 [01:35<00:00, 19.18s/it]\n"
          ]
        },
        {
          "output_type": "stream",
          "name": "stdout",
          "text": [
            "Dev Accuracy: 0.9230885009030705\n",
            "\n",
            "Training with configuration:\n",
            "Number of Layers: 2, Bidirectional: True, Hidden Layer Size: 128, Embedding Size: 256, Activation Function: relu\n"
          ]
        },
        {
          "output_type": "stream",
          "name": "stderr",
          "text": [
            "100%|██████████| 5/5 [03:08<00:00, 37.76s/it]\n"
          ]
        },
        {
          "output_type": "stream",
          "name": "stdout",
          "text": [
            "Dev Accuracy: 0.9388922335942204\n",
            "\n",
            "Training with configuration:\n",
            "Number of Layers: 1, Bidirectional: False, Hidden Layer Size: 64, Embedding Size: 64, Activation Function: tanh\n"
          ]
        },
        {
          "output_type": "stream",
          "name": "stderr",
          "text": [
            "100%|██████████| 5/5 [00:35<00:00,  7.19s/it]\n"
          ]
        },
        {
          "output_type": "stream",
          "name": "stdout",
          "text": [
            "Dev Accuracy: 0.9104455147501506\n",
            "\n",
            "Best performing configuration on dev set:\n",
            "Number of Layers: 2, Bidirectional: True, Hidden Layer Size: 128, Embedding Size: 256, Activation Function: relu\n"
          ]
        },
        {
          "output_type": "stream",
          "name": "stderr",
          "text": [
            "100%|██████████| 5/5 [02:55<00:00, 35.08s/it]\n"
          ]
        },
        {
          "output_type": "stream",
          "name": "stdout",
          "text": [
            "Test Accuracy for the best configuration: 0.04939209726443769\n"
          ]
        }
      ]
    },
    {
      "cell_type": "code",
      "source": [
        "num_epochs = 10\n",
        "# Define hyperparameter configurations to experiment with\n",
        "configurations = [\n",
        "    {\"num_layers\": 1, \"bidirectional\": False, \"hidden_size\": 256, \"embedding_size\": 128, \"activation\": F.relu},\n",
        "    {\"num_layers\": 2, \"bidirectional\": True, \"hidden_size\": 128, \"embedding_size\": 256, \"activation\": F.relu},\n",
        "    {\"num_layers\": 1, \"bidirectional\": False, \"hidden_size\": 64, \"embedding_size\": 64, \"activation\": F.tanh},\n",
        "]\n",
        "\n",
        "# Training and evaluation of each configuration\n",
        "dev_accuracies = [[] for _ in range(len(configurations))]\n",
        "test_accuracies = []\n",
        "\n",
        "for config_index, config in enumerate(configurations):\n",
        "    #print(\"Training with configuration:\")\n",
        "    #print(f\"Number of Layers: {config['num_layers']}, Bidirectional: {config['bidirectional']}, Hidden Layer Size: {config['hidden_size']}, Embedding Size: {config['embedding_size']}, Activation Function: {config['activation'].__name__}\")\n",
        "    model = LSTMTagger(embedding_dim=config['embedding_size'], hidden_dim=config['hidden_size'],\n",
        "                       vocab_size=vocab_size, tagset_size=tagset_size,\n",
        "                       num_layers=config['num_layers'], bidirectional=config['bidirectional'],\n",
        "                       activation=config['activation'])\n",
        "\n",
        "    loss_function = nn.NLLLoss()\n",
        "    optimizer = optim.SGD(model.parameters(), lr=0.01)\n",
        "\n",
        "    # Training loop\n",
        "    dev_accuracy_per_epoch = []\n",
        "    for epoch in tqdm(range(num_epochs)):\n",
        "        model.train()\n",
        "        for sentence, tags in train_data:\n",
        "            model.zero_grad()\n",
        "            input_sentence = input_seq(sentence, word_to_idx)\n",
        "            targets = input_seq(tags, tag_to_idx)\n",
        "            tag_scores = model(input_sentence)\n",
        "            loss = loss_function(tag_scores, targets)\n",
        "            loss.backward()\n",
        "            optimizer.step()\n",
        "\n",
        "        # Evaluating on dev set after each epoch\n",
        "        dev_accuracy = calculate_accuracy(model, dev_data, word_to_idx, tag_to_idx)\n",
        "        dev_accuracy_per_epoch.append(dev_accuracy)\n",
        "        #print(f\"Epoch {epoch + 1}, Dev Accuracy: {dev_accuracy}\")\n",
        "\n",
        "    dev_accuracies[config_index] = dev_accuracy_per_epoch\n",
        "\n",
        "# Plotting epoch vs. dev set accuracy\n",
        "plt.figure(figsize=(10, 6))\n",
        "for i, dev_acc_per_epoch in enumerate(dev_accuracies):\n",
        "    config = configurations[i]\n",
        "    plt.plot(range(1, num_epochs + 1), dev_acc_per_epoch, label=f\"Configuration {i+1}\")\n",
        "\n",
        "plt.xlabel('Epoch')\n",
        "plt.ylabel('Dev Set Accuracy')\n",
        "plt.title('Epoch vs Dev Set Accuracy for Different Configurations')\n",
        "plt.legend()\n",
        "plt.grid(True)\n",
        "plt.show()\n"
      ],
      "metadata": {
        "colab": {
          "base_uri": "https://localhost:8080/",
          "height": 616
        },
        "id": "gYG7d4mcEJjg",
        "outputId": "2e723bd4-73a7-43cd-b9d9-cdce62365557"
      },
      "execution_count": 24,
      "outputs": [
        {
          "output_type": "stream",
          "name": "stderr",
          "text": [
            "100%|██████████| 10/10 [04:45<00:00, 28.51s/it]\n",
            "100%|██████████| 10/10 [08:01<00:00, 48.16s/it]\n",
            "100%|██████████| 10/10 [01:22<00:00,  8.25s/it]\n"
          ]
        },
        {
          "output_type": "display_data",
          "data": {
            "text/plain": [
              "<Figure size 1000x600 with 1 Axes>"
            ],
            "image/png": "[encoded data removed]"
          },
          "metadata": {}
        }
      ]
    },
    {
      "cell_type": "code",
      "source": [
        "# Function for precision, recall, and F1 score\n",
        "def calculate_metrics(y_true, y_pred):\n",
        "    accuracy = accuracy_score(y_true, y_pred)\n",
        "    recall_micro = recall_score(y_true, y_pred, average='micro')\n",
        "    recall_macro = recall_score(y_true, y_pred, average='macro')\n",
        "    precision_micro = precision_score(y_true, y_pred, average='micro')\n",
        "    precision_macro = precision_score(y_true, y_pred, average='macro')\n",
        "    f1_micro = f1_score(y_true, y_pred, average='micro')\n",
        "    f1_macro = f1_score(y_true, y_pred, average='macro')\n",
        "    return accuracy, recall_micro, recall_macro, precision_micro, precision_macro, f1_micro, f1_macro\n",
        "\n",
        "# Function for generation of confusion matrix\n",
        "def generate_confusion_matrix(y_true, y_pred, labels):\n",
        "    cm = confusion_matrix(y_true, y_pred, labels=labels)\n",
        "    return cm\n",
        "\n",
        "# Function for model using different metrics\n",
        "def evaluate_model(model, data, word_to_idx, tag_to_idx):\n",
        "    true_labels = []\n",
        "    pred_labels = []\n",
        "    for sentence, tags in data:\n",
        "        input_sentence = input_seq(sentence, word_to_idx)\n",
        "        targets = input_seq(tags, tag_to_idx)\n",
        "        tag_scores = model(input_sentence)\n",
        "        predicted_indices = torch.argmax(tag_scores, dim=1)\n",
        "        true_labels.extend(targets.tolist())\n",
        "        pred_labels.extend(predicted_indices.tolist())\n",
        "\n",
        "    # Calculating metrics\n",
        "    accuracy, recall_micro, recall_macro, precision_micro, precision_macro, f1_micro, f1_macro = calculate_metrics(true_labels, pred_labels)\n",
        "\n",
        "    # Generating confusion matrix\n",
        "    labels = list(tag_to_idx.values())\n",
        "    cm = generate_confusion_matrix(true_labels, pred_labels, labels)\n",
        "\n",
        "    return accuracy, recall_micro, recall_macro, precision_micro, precision_macro, f1_micro, f1_macro, cm\n",
        "\n",
        "# Model on dev set\n",
        "with warnings.catch_warnings():\n",
        "    warnings.filterwarnings(\"ignore\")\n",
        "    dev_accuracy, dev_recall_micro, dev_recall_macro, dev_precision_micro, dev_precision_macro, dev_f1_micro, dev_f1_macro, dev_conf_matrix = evaluate_model(model, dev_data, word_to_idx, tag_to_idx)\n",
        "print(\"Evaluation Metrics on Dev Set:\")\n",
        "print(f\"Accuracy: {dev_accuracy}\")\n",
        "print(f\"Micro Recall: {dev_recall_micro}, Macro Recall: {dev_recall_macro}\")\n",
        "print(f\"Micro Precision: {dev_precision_micro}, Macro Precision: {dev_precision_macro}\")\n",
        "print(f\"Micro F1 Score: {dev_f1_micro}, Macro F1 Score: {dev_f1_macro}\")\n",
        "print(\"\\nConfusion Matrix:\")\n",
        "print(dev_conf_matrix)\n",
        "\n",
        "# Model on test set\n",
        "with warnings.catch_warnings():\n",
        "    warnings.filterwarnings(\"ignore\")\n",
        "    test_accuracy, test_recall_micro, test_recall_macro, test_precision_micro, test_precision_macro, test_f1_micro, test_f1_macro, test_conf_matrix = evaluate_model(model, test_data, word_to_idx, tag_to_idx)\n",
        "print(\"\\nEvaluation Metrics on Test Set:\")\n",
        "print(f\"Accuracy: {test_accuracy}\")\n",
        "print(f\"Micro Recall: {test_recall_micro}, Macro Recall: {test_recall_macro}\")\n",
        "print(f\"Micro Precision: {test_precision_micro}, Macro Precision: {test_precision_macro}\")\n",
        "print(f\"Micro F1 Score: {test_f1_micro}, Macro F1 Score: {test_f1_macro}\")\n",
        "print(\"\\nConfusion Matrix:\")\n",
        "print(test_conf_matrix)\n"
      ],
      "metadata": {
        "colab": {
          "base_uri": "https://localhost:8080/"
        },
        "id": "0sB060AAgXQZ",
        "outputId": "e252c270-4ebc-4af0-b4b0-7aed5a56bcba"
      },
      "execution_count": 25,
      "outputs": [
        {
          "output_type": "stream",
          "name": "stdout",
          "text": [
            "Evaluation Metrics on Dev Set:\n",
            "Accuracy: 0.9360325105358218\n",
            "Micro Recall: 0.9360325105358218, Macro Recall: 0.8616604521543635\n",
            "Micro Precision: 0.9360325105358218, Macro Precision: 0.9356413513144312\n",
            "Micro F1 Score: 0.9360325105358218, Macro F1 Score: 0.8914983182210985\n",
            "\n",
            "Confusion Matrix:\n",
            "[[ 313    1  100    0    0    0    1    0    1    0    0    0    0]\n",
            " [   0  243    0    2    0    2   18    0    1    0    0    0    0]\n",
            " [   1    1  549    1   11    4    1    0    0    0    0    0    0]\n",
            " [   1    1    6 1101    1   19    7    0    7    0    0    0    0]\n",
            " [   1    0    0    4 1397    3    1    2    1    0    0    6    0]\n",
            " [   0    0    5   12    0 1531    2    0    1    0    0    0    0]\n",
            " [   1    2    4    7   66    4  568    0    1    0    0    0    0]\n",
            " [   1    0   11    4    1   10    1   98    5    0    0    0    0]\n",
            " [   0    0    1   19    0    4    4    1  193    0    5    0    0]\n",
            " [   0    0    0    0    0    1    0    0    0  106    0    0    0]\n",
            " [   0    0    2   10    0    5    0    1   11    0   30    0    0]\n",
            " [   0    0    0    0   12    0    0    0    0    0    0   61    0]\n",
            " [   0    0    0    0    0    0    6    0    0    0    0    0   29]]\n",
            "\n",
            "Evaluation Metrics on Test Set:\n",
            "Accuracy: 0.935258358662614\n",
            "Micro Recall: 0.935258358662614, Macro Recall: 0.8684868689352877\n",
            "Micro Precision: 0.935258358662614, Macro Precision: 0.9399451328626903\n",
            "Micro F1 Score: 0.935258358662614, Macro F1 Score: 0.8935717920494504\n",
            "\n",
            "Confusion Matrix:\n",
            "[[ 287    0  104    0    0    0    0    1    0    0    0    0    0]\n",
            " [   0  231    2    4    0    1   18    0    0    0    0    0    0]\n",
            " [   1    0  500    3    1    3    4    0    0    0    0    0    0]\n",
            " [   0    0    2 1131    0   17    8    1    7    0    0    0    0]\n",
            " [   0    0    2    3 1418    1    1    4    3    0    0    2    0]\n",
            " [   0    0   10    9    1 1542    4    0    1    0    0    0    0]\n",
            " [   0   10    7    5   65    5  533    1    3    0    0    0    0]\n",
            " [   3    0   17    5    2   12    2   83    3    0    0    0    0]\n",
            " [   0    0    0    6    0    8    5    1  200    0    0    0    0]\n",
            " [   0    1    0    1    0    1    0    0    1  105    0    0    0]\n",
            " [   2    1    0    7    2    4    3    1   18    0   38    0    0]\n",
            " [   0    0    0    0    3    0    0    0    0    0    0   53    0]\n",
            " [   0    0    0    0    1    0    2    0    0    0    0    0   33]]\n"
          ]
        }
      ]
    },
    {
      "cell_type": "code",
      "source": [
        "def predict_pos_tags(model, sentence, word_to_idx, tag_to_idx):\n",
        "    # Tokenization\n",
        "    words = sentence.split()\n",
        "\n",
        "    # Sentences to input sequence\n",
        "    input_sentence = input_seq(words, word_to_idx)\n",
        "\n",
        "    # Pedictions from the model\n",
        "    tag_scores = model(input_sentence)\n",
        "\n",
        "    # Get predicted indices\n",
        "    predicted_indices = torch.argmax(tag_scores, dim=1)\n",
        "\n",
        "    # Mapping predicted indices to POS tags\n",
        "    predicted_tags = [list(tag_to_idx.keys())[idx] for idx in predicted_indices]\n",
        "\n",
        "    return predicted_tags\n",
        "\n",
        "# One examplke\n",
        "input_sentence = \"I have a book\"\n",
        "predicted_tags = predict_pos_tags(model, input_sentence, word_to_idx, tag_to_idx)\n",
        "print(input_sentence.split())\n",
        "print(predicted_tags)\n",
        "\n",
        "# torch.save(word_to_idx,\"word_to_idx.pt\")\n",
        "# print(word_to_idx)\n",
        "\n",
        "#torch.save(tag_to_idx,\"tag_to_idx.pt\")"
      ],
      "metadata": {
        "colab": {
          "base_uri": "https://localhost:8080/"
        },
        "id": "4hmWryu5Mv8B",
        "outputId": "a28add64-a4fa-4617-d4e4-330687dd8bbd"
      },
      "execution_count": 26,
      "outputs": [
        {
          "output_type": "stream",
          "name": "stdout",
          "text": [
            "['I', 'have', 'a', 'book']\n",
            "['DET', 'VERB', 'DET', 'NOUN']\n"
          ]
        }
      ]
    }
  ]
}